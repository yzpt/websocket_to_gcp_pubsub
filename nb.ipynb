{
 "cells": [
  {
   "cell_type": "code",
   "execution_count": 16,
   "metadata": {},
   "outputs": [],
   "source": [
    "from google.cloud import pubsub_v1\n",
    "import os\n",
    "import json"
   ]
  },
  {
   "cell_type": "code",
   "execution_count": 17,
   "metadata": {},
   "outputs": [],
   "source": [
    "# set environment variables\n",
    "os.environ[\"GOOGLE_APPLICATION_CREDENTIALS\"] = \"websocket_app/keys/key-gcloud.json\"\n",
    "os.environ[\"GOOGLE_CLOUD_PROJECT\"] = \"cryptos-gcp\"\n",
    "\n",
    "# finnub api key\n",
    "with open('websocket_app/keys/finnhub_api_key.txt') as f:\n",
    "    api_key = f.read()\n",
    "    f.close()  \n",
    "\n",
    "publisher = pubsub_v1.PublisherClient()\n",
    "topic_name = 'projects/{project_id}/topics/{topic}'.format(\n",
    "    project_id=os.getenv('GOOGLE_CLOUD_PROJECT'),\n",
    "    topic='cryptos-streaming',\n",
    ")"
   ]
  },
  {
   "cell_type": "code",
   "execution_count": 18,
   "metadata": {},
   "outputs": [
    {
     "data": {
      "text/plain": [
       "<Future at 0x7fe1a65443a0 state=pending>"
      ]
     },
     "execution_count": 18,
     "metadata": {},
     "output_type": "execute_result"
    }
   ],
   "source": [
    "publisher.publish(topic_name, b'ahahah')\n",
    "# publisher.publish(topic_name, json.dumps(kafka_data).encode('utf-8'))"
   ]
  },
  {
   "cell_type": "code",
   "execution_count": null,
   "metadata": {},
   "outputs": [],
   "source": []
  }
 ],
 "metadata": {
  "kernelspec": {
   "display_name": "venv",
   "language": "python",
   "name": "python3"
  },
  "language_info": {
   "codemirror_mode": {
    "name": "ipython",
    "version": 3
   },
   "file_extension": ".py",
   "mimetype": "text/x-python",
   "name": "python",
   "nbconvert_exporter": "python",
   "pygments_lexer": "ipython3",
   "version": "3.10.12"
  }
 },
 "nbformat": 4,
 "nbformat_minor": 2
}
